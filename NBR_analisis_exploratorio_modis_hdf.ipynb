{
 "cells": [
  {
   "cell_type": "code",
   "execution_count": 1,
   "id": "a7f65df4",
   "metadata": {},
   "outputs": [],
   "source": [
    "#Librerias que vamos a utilizar\n",
    "import numpy as np\n",
    "import pyhdf.SD\n",
    "from pyhdf.SD import SD,SDC #Necesitamos la libreria pyhdf para leer archivos y SD una clase\n",
    "import glob #una libreria que usamos\n",
    "import pandas as pd\n",
    "import matplotlib.pyplot as plt\n",
    "import re #liberia para regex que luego usaremos en texto"
   ]
  },
  {
   "cell_type": "code",
   "execution_count": 2,
   "id": "8e2901aa",
   "metadata": {},
   "outputs": [
    {
     "name": "stdout",
     "output_type": "stream",
     "text": [
      "['archivos/MOD021KM.A2022224.1430.006.2022225012914.hdf', 'archivos/MOD021KM.A2022091.1415.006.2022092022447(2).hdf']\n"
     ]
    }
   ],
   "source": [
    "#Lectura de archivos de calibrated radiance\n",
    "\n",
    "#Ruta donde se encuentran los archivos hdf\n",
    "DataPath = 'archivos'\n",
    "\n",
    "#Generamos una variable con todos los archivos de la carpeta\n",
    "Filelist = glob.glob(DataPath+'/*')\n",
    "\n",
    "#Mostramos por pantalla\n",
    "print(Filelist)"
   ]
  },
  {
   "cell_type": "code",
   "execution_count": 6,
   "id": "f5a700bd",
   "metadata": {},
   "outputs": [],
   "source": [
    "#Elegimos el archivo con el que vamos a trabajar segun el indice \n",
    "\n",
    "n_file = 1\n",
    "\n",
    "#Abrimos el archivo: SD una clase de la libreria pyhdf junto con el READ lo utilizamos\n",
    "#para leer el archivo\n",
    "\n",
    "File = SD(Filelist[n_file],SDC.READ)\n",
    "\n",
    "def lee_archivo(File):\n",
    "    archivo = SD(File,SDC.READ)\n",
    "    return archivo\n",
    "    \n",
    "\n",
    "#Mostramos informacion de nuestro archivo hdf\n",
    "\n",
    "print(File.info()) "
   ]
  },
  {
   "cell_type": "markdown",
   "id": "bb5c132a",
   "metadata": {},
   "source": [
    "Nuestro archivo hdf contiene 31 sds (Datasets). Para ver esto de forma mas detallada utilizamos la funcion \"visualiza_hdf\" que nos devuelve una tabla con la informacion de los sds."
   ]
  },
  {
   "cell_type": "markdown",
   "id": "728ff795",
   "metadata": {},
   "source": [
    "#Metadata \n",
    "\n",
    "Vamos a trabajar con lo que se conoce como el metadata de nuestro archivo HDF. Esto lo hacemos debido a que dentro de él, tenemos algunos datos interesantes como lo son la fecha y la hora en la que se scaneo la información. Lo vamos a obtener utilizando el metodo attributes() que luego volveremos a ver. "
   ]
  },
  {
   "cell_type": "code",
   "execution_count": 4,
   "id": "45cead39",
   "metadata": {},
   "outputs": [],
   "source": [
    "#File.attributes() #ejecutar para observar el metadata"
   ]
  },
  {
   "cell_type": "markdown",
   "id": "c0e5d2e9",
   "metadata": {},
   "source": [
    "Se trata de un diccionario que contiene informacion. Generemos una tabla donde podamos observarla un poco mejor"
   ]
  },
  {
   "cell_type": "code",
   "execution_count": 5,
   "id": "76262e10",
   "metadata": {},
   "outputs": [],
   "source": [
    "#pd.DataFrame(File.attributes().keys()) #ejecutar para ver en formato tabla"
   ]
  },
  {
   "cell_type": "markdown",
   "id": "39454c9d",
   "metadata": {},
   "source": [
    "De este diccionario nos va a interesar el contenido de \"CoreMetadata.0\" que segun la documentación de https://ladsweb.modaps.eosdis.nasa.gov/filespec/MODIS/5/MOD03 tiene información sobre hora y fecha.\n",
    "Al extraer el metadata lo obtendremos en formato \"string\"."
   ]
  },
  {
   "cell_type": "code",
   "execution_count": 6,
   "id": "ce8c2422",
   "metadata": {},
   "outputs": [],
   "source": [
    "meta_data = File.attributes()[\"CoreMetadata.0\"]\n",
    "#print(type(meta_data))\n",
    "#print(meta_data)"
   ]
  },
  {
   "cell_type": "code",
   "execution_count": 7,
   "id": "d809791e",
   "metadata": {},
   "outputs": [
    {
     "name": "stdout",
     "output_type": "stream",
     "text": [
      "2022-04-02\n"
     ]
    }
   ],
   "source": [
    "#Formato de la fecha segun la documentacion YYYY-MM-DD\n",
    "patron_fecha = r'(\\d{4})-(\\d{2})-(\\d{2})'\n",
    "\n",
    "#Busco en el texto la primera fecha. Conociendo la manera en la que se almacena la \n",
    "#informacion. Se que va a encontrar la fecha correcta. Solo almacene 5 min de datos\n",
    "fecha = re.search(patron_fecha,meta_data)[0]\n",
    "\n",
    "print(fecha)"
   ]
  },
  {
   "cell_type": "code",
   "execution_count": 8,
   "id": "534b135a",
   "metadata": {},
   "outputs": [],
   "source": [
    "#Una funcion que nos servira para hallar fecha siguiendo los anteriores pasos\n",
    "\n",
    "def hora_archivo(File):\n",
    "    metadata = File.attributes()[\"CoreMetadata.0\"]\n",
    "    patron_horario = r'(\\d{4})-(\\d{2})-(\\d{2})'\n",
    "    fecha = re.search(patron_fecha,meta_data)[0]\n",
    "    return fecha"
   ]
  },
  {
   "cell_type": "code",
   "execution_count": 9,
   "id": "32abc4a4",
   "metadata": {},
   "outputs": [
    {
     "data": {
      "text/html": [
       "<div>\n",
       "<style scoped>\n",
       "    .dataframe tbody tr th:only-of-type {\n",
       "        vertical-align: middle;\n",
       "    }\n",
       "\n",
       "    .dataframe tbody tr th {\n",
       "        vertical-align: top;\n",
       "    }\n",
       "\n",
       "    .dataframe thead th {\n",
       "        text-align: right;\n",
       "    }\n",
       "</style>\n",
       "<table border=\"1\" class=\"dataframe\">\n",
       "  <thead>\n",
       "    <tr style=\"text-align: right;\">\n",
       "      <th></th>\n",
       "      <th>Datasets</th>\n",
       "    </tr>\n",
       "  </thead>\n",
       "  <tbody>\n",
       "    <tr>\n",
       "      <th>0</th>\n",
       "      <td>Latitude</td>\n",
       "    </tr>\n",
       "    <tr>\n",
       "      <th>1</th>\n",
       "      <td>Longitude</td>\n",
       "    </tr>\n",
       "    <tr>\n",
       "      <th>2</th>\n",
       "      <td>EV_1KM_RefSB</td>\n",
       "    </tr>\n",
       "    <tr>\n",
       "      <th>3</th>\n",
       "      <td>EV_1KM_RefSB_Uncert_Indexes</td>\n",
       "    </tr>\n",
       "    <tr>\n",
       "      <th>4</th>\n",
       "      <td>EV_1KM_Emissive</td>\n",
       "    </tr>\n",
       "    <tr>\n",
       "      <th>5</th>\n",
       "      <td>EV_1KM_Emissive_Uncert_Indexes</td>\n",
       "    </tr>\n",
       "    <tr>\n",
       "      <th>6</th>\n",
       "      <td>EV_250_Aggr1km_RefSB</td>\n",
       "    </tr>\n",
       "    <tr>\n",
       "      <th>7</th>\n",
       "      <td>EV_250_Aggr1km_RefSB_Uncert_Indexes</td>\n",
       "    </tr>\n",
       "    <tr>\n",
       "      <th>8</th>\n",
       "      <td>EV_250_Aggr1km_RefSB_Samples_Used</td>\n",
       "    </tr>\n",
       "    <tr>\n",
       "      <th>9</th>\n",
       "      <td>EV_500_Aggr1km_RefSB</td>\n",
       "    </tr>\n",
       "    <tr>\n",
       "      <th>10</th>\n",
       "      <td>EV_500_Aggr1km_RefSB_Uncert_Indexes</td>\n",
       "    </tr>\n",
       "    <tr>\n",
       "      <th>11</th>\n",
       "      <td>EV_500_Aggr1km_RefSB_Samples_Used</td>\n",
       "    </tr>\n",
       "    <tr>\n",
       "      <th>12</th>\n",
       "      <td>Height</td>\n",
       "    </tr>\n",
       "    <tr>\n",
       "      <th>13</th>\n",
       "      <td>SensorZenith</td>\n",
       "    </tr>\n",
       "    <tr>\n",
       "      <th>14</th>\n",
       "      <td>SensorAzimuth</td>\n",
       "    </tr>\n",
       "    <tr>\n",
       "      <th>15</th>\n",
       "      <td>Range</td>\n",
       "    </tr>\n",
       "    <tr>\n",
       "      <th>16</th>\n",
       "      <td>SolarZenith</td>\n",
       "    </tr>\n",
       "    <tr>\n",
       "      <th>17</th>\n",
       "      <td>SolarAzimuth</td>\n",
       "    </tr>\n",
       "    <tr>\n",
       "      <th>18</th>\n",
       "      <td>gflags</td>\n",
       "    </tr>\n",
       "    <tr>\n",
       "      <th>19</th>\n",
       "      <td>EV_Band26</td>\n",
       "    </tr>\n",
       "    <tr>\n",
       "      <th>20</th>\n",
       "      <td>EV_Band26_Uncert_Indexes</td>\n",
       "    </tr>\n",
       "    <tr>\n",
       "      <th>21</th>\n",
       "      <td>Band_250M</td>\n",
       "    </tr>\n",
       "    <tr>\n",
       "      <th>22</th>\n",
       "      <td>Band_500M</td>\n",
       "    </tr>\n",
       "    <tr>\n",
       "      <th>23</th>\n",
       "      <td>Band_1KM_RefSB</td>\n",
       "    </tr>\n",
       "    <tr>\n",
       "      <th>24</th>\n",
       "      <td>Band_1KM_Emissive</td>\n",
       "    </tr>\n",
       "    <tr>\n",
       "      <th>25</th>\n",
       "      <td>Noise in Thermal Detectors</td>\n",
       "    </tr>\n",
       "    <tr>\n",
       "      <th>26</th>\n",
       "      <td>Change in relative responses of thermal detectors</td>\n",
       "    </tr>\n",
       "    <tr>\n",
       "      <th>27</th>\n",
       "      <td>DC Restore Change for Thermal Bands</td>\n",
       "    </tr>\n",
       "    <tr>\n",
       "      <th>28</th>\n",
       "      <td>DC Restore Change for Reflective 250m Bands</td>\n",
       "    </tr>\n",
       "    <tr>\n",
       "      <th>29</th>\n",
       "      <td>DC Restore Change for Reflective 500m Bands</td>\n",
       "    </tr>\n",
       "    <tr>\n",
       "      <th>30</th>\n",
       "      <td>DC Restore Change for Reflective 1km Bands</td>\n",
       "    </tr>\n",
       "  </tbody>\n",
       "</table>\n",
       "</div>"
      ],
      "text/plain": [
       "                                             Datasets\n",
       "0                                            Latitude\n",
       "1                                           Longitude\n",
       "2                                        EV_1KM_RefSB\n",
       "3                         EV_1KM_RefSB_Uncert_Indexes\n",
       "4                                     EV_1KM_Emissive\n",
       "5                      EV_1KM_Emissive_Uncert_Indexes\n",
       "6                                EV_250_Aggr1km_RefSB\n",
       "7                 EV_250_Aggr1km_RefSB_Uncert_Indexes\n",
       "8                   EV_250_Aggr1km_RefSB_Samples_Used\n",
       "9                                EV_500_Aggr1km_RefSB\n",
       "10                EV_500_Aggr1km_RefSB_Uncert_Indexes\n",
       "11                  EV_500_Aggr1km_RefSB_Samples_Used\n",
       "12                                             Height\n",
       "13                                       SensorZenith\n",
       "14                                      SensorAzimuth\n",
       "15                                              Range\n",
       "16                                        SolarZenith\n",
       "17                                       SolarAzimuth\n",
       "18                                             gflags\n",
       "19                                          EV_Band26\n",
       "20                           EV_Band26_Uncert_Indexes\n",
       "21                                          Band_250M\n",
       "22                                          Band_500M\n",
       "23                                     Band_1KM_RefSB\n",
       "24                                  Band_1KM_Emissive\n",
       "25                         Noise in Thermal Detectors\n",
       "26  Change in relative responses of thermal detectors\n",
       "27                DC Restore Change for Thermal Bands\n",
       "28        DC Restore Change for Reflective 250m Bands\n",
       "29        DC Restore Change for Reflective 500m Bands\n",
       "30         DC Restore Change for Reflective 1km Bands"
      ]
     },
     "execution_count": 9,
     "metadata": {},
     "output_type": "execute_result"
    }
   ],
   "source": [
    "def visualiza_hdf(File):\n",
    "    \n",
    "    #El modulo datasets (proviene de la libreria pyhdf) me devuelve informacion sobre que\n",
    "    #hay dentro del hdf. \n",
    "    datasets = {\"Datasets\": list(File.datasets().keys())}\n",
    "    \n",
    "    #Lo transformamos a un dataframe para visualizar\n",
    "    info_file = pd.DataFrame(datasets)\n",
    "    \n",
    "    return info_file\n",
    "\n",
    "visualiza_hdf(File)"
   ]
  },
  {
   "cell_type": "markdown",
   "id": "999384da",
   "metadata": {},
   "source": [
    "Para calcular nuestro indice vamos a necesitar el sds de \"EV_500_Aggr1km_RefSB\" en el cual vamos a tener valores de reflectancia. Y mas aun las bandas que necesitamos."
   ]
  },
  {
   "cell_type": "code",
   "execution_count": 10,
   "id": "ff817b48",
   "metadata": {},
   "outputs": [],
   "source": [
    "#Funcion que pide como argumento un archivo hdf y el dataset que queramos\n",
    "\n",
    "def selecciona_sds_hdf(File,sds):\n",
    "    \n",
    "    #Seleccionamos el dataset con \"select\" metodo de la libreria pyhdf\n",
    "    sds_seleccionado = File.select(sds)\n",
    "    \n",
    "    return sds_seleccionado"
   ]
  },
  {
   "cell_type": "code",
   "execution_count": 11,
   "id": "ada01564",
   "metadata": {},
   "outputs": [],
   "source": [
    "#Toma como argumento un archivo hdf y el dataset que desee extraer\n",
    "\n",
    "def extrae_datos_hdf(File,sds):\n",
    "    \n",
    "    #Seleccionamos el dataset con la funcion\n",
    "    dataset = selecciona_sds_hdf(File,sds)\n",
    "    \n",
    "    #Extraemos los datos con el metodo get de pyhdf\n",
    "    sds_datos = dataset.get()\n",
    "    \n",
    "    #Devuelve los datos y su dimension\n",
    "    return sds_datos,sds_datos.shape"
   ]
  },
  {
   "cell_type": "markdown",
   "id": "bd7fbd68",
   "metadata": {},
   "source": [
    "Para ver que informacion \"atributos\" tenemos en nuestro dataset vamos a utilizar la funcion \"muestra_atributos_sds\" la cual nos entrega una tabla donde los visualizamos."
   ]
  },
  {
   "cell_type": "code",
   "execution_count": 12,
   "id": "ee6315ee",
   "metadata": {},
   "outputs": [],
   "source": [
    "def selecciona_atributos_sds(File,sds):\n",
    "    \n",
    "    #Seleccionamos el dataset\n",
    "    dataset = selecciona_sds_hdf(File,sds)\n",
    "    \n",
    "    #Utilizamos el metodo attribute, nos devuelve un diccionario con una descripcion\n",
    "    #global de cada atributo adjunto al archivo hdf\n",
    "    dic_atributos = dataset.attributes()\n",
    "    \n",
    "    return dic_atributos"
   ]
  },
  {
   "cell_type": "code",
   "execution_count": 13,
   "id": "734136c3",
   "metadata": {},
   "outputs": [],
   "source": [
    "#Input : File y un dataset\n",
    "def muestra_atributos_sds(File,sds):\n",
    "    \n",
    "    dic_atributos = selecciona_atributos_sds(File,sds)\n",
    "        \n",
    "    #Tomamos las llaves y valores del diccionario y los transformamos en listas\n",
    "    #para luego generar una tabla y visualizarlo\n",
    "    columna1 = list(dic_atributos.keys())\n",
    "    columna2 = list(dic_atributos.values())\n",
    "    \n",
    "    #Generamos una tabla/dataframe\n",
    "    df = pd.DataFrame({\"\":columna1,\"Atributos\":columna2})\n",
    "    df = df.set_index(\"\")\n",
    "    \n",
    "    #Regresa una tabla donde se muestran los atributos del dataset\n",
    "    return df"
   ]
  },
  {
   "cell_type": "code",
   "execution_count": null,
   "id": "374b7a5c",
   "metadata": {},
   "outputs": [],
   "source": [
    "#muestra_atributos_sds(File,\"EV_500_Aggr1km_RefSB\")"
   ]
  },
  {
   "cell_type": "code",
   "execution_count": null,
   "id": "87525449",
   "metadata": {},
   "outputs": [],
   "source": [
    "#Se elige un file hdf, sds: el dataset que queramos y el atributo del dataset\n",
    "def extrae_atributos_sds(File,sds,atributo):\n",
    "    \n",
    "    #Utilizamos la funcion para generar un diccionario con los atributos\n",
    "    dic_atributos = selecciona_atributos_sds(File,sds)\n",
    "    \n",
    "    #Del diccionario elegimos el atributo que queremos\n",
    "    attr = dic_atributos[atributo]\n",
    "    \n",
    "    #Devuelve una lista con los valores de mi atributo\n",
    "    return attr"
   ]
  },
  {
   "cell_type": "code",
   "execution_count": 14,
   "id": "4d91f4bc",
   "metadata": {},
   "outputs": [],
   "source": [
    "#Extrae los valores de la banda seleccionada ya convertidos a reflectancia\n",
    "\n",
    "#File hdf, sds: dataset,canal deseado, nombre de atributo con las bandas\n",
    "def extrae_banda(File,sds,band,nombre_atributo):\n",
    "    \n",
    "    #Extraemos los valores de reflectancia sin conversion\n",
    "    REF = extrae_datos_hdf(File,sds)[0]\n",
    "    \n",
    "    #Extraemos los numeros de bandas que tenemos. Ej:band 1, band2\n",
    "    #Spliteamos para operar en ellas\n",
    "    n_bands = extrae_atributos_sds(File,sds,nombre_atributo).split(\",\")\n",
    "    \n",
    "    #Elegimos la banda\n",
    "    \n",
    "    posicion_band = n_bands.index(str(band))\n",
    "    \n",
    "    \n",
    "    #Hacemos la conversion\n",
    "    \n",
    "    rad_off_ref= extrae_atributos_sds(File,sds,\"reflectance_offsets\")[posicion_band]\n",
    "    \n",
    "    rad_scales_ref = extrae_atributos_sds(File,sds,\"reflectance_scales\")[posicion_band]\n",
    "    \n",
    "    canal = rad_scales_ref * (REF[posicion_band,:,:] - rad_off_ref)\n",
    "    \n",
    "    return canal"
   ]
  },
  {
   "cell_type": "code",
   "execution_count": 15,
   "id": "2304c88b",
   "metadata": {},
   "outputs": [],
   "source": [
    "def indice_nbr(File,sds,nombre_atributo):\n",
    "    \n",
    "    #Extraemos las bandas con las cuales vamos a trabajar\n",
    "    canal_5 = extrae_banda(File,sds,5,nombre_atributo)\n",
    "    canal_7 = extrae_banda(File,sds,7,nombre_atributo)\n",
    "    \n",
    "    #Calculamos el indice NBR\n",
    "    nbr = (canal_5 - canal_7) / (canal_5 + canal_7)\n",
    "    \n",
    "    #array con los valores de nbr\n",
    "    return nbr  \n"
   ]
  },
  {
   "cell_type": "markdown",
   "id": "1ef7e7a6",
   "metadata": {},
   "source": [
    "#Geolocalizacion"
   ]
  },
  {
   "cell_type": "code",
   "execution_count": 16,
   "id": "3ec566b5",
   "metadata": {},
   "outputs": [
    {
     "name": "stdout",
     "output_type": "stream",
     "text": [
      "['geolocation/MOD03.A2022091.1415.006.2022091212727(1).hdf', 'geolocation/MOD03.A2022091.1415.006.2022091212727.hdf']\n"
     ]
    }
   ],
   "source": [
    "#Ruta donde se encuentran los archivos hdf\n",
    "DataPath = 'geolocation'\n",
    "\n",
    "#Generamos una variable con todos los archivos de la carpeta\n",
    "Filelist_geo = glob.glob(DataPath+'/*')\n",
    "\n",
    "#Mostramos por pantalla\n",
    "print(Filelist_geo)"
   ]
  },
  {
   "cell_type": "code",
   "execution_count": 17,
   "id": "1d428175",
   "metadata": {},
   "outputs": [
    {
     "name": "stdout",
     "output_type": "stream",
     "text": [
      "(46, 27)\n"
     ]
    }
   ],
   "source": [
    "#Elegimos el archivo con el que vamos a trabajar segun el indice \n",
    "\n",
    "n_file = 0\n",
    "\n",
    "#Abrimos el archivo\n",
    "\n",
    "File_geo = SD(Filelist_geo[n_file],SDC.READ)\n",
    "\n",
    "#Mostramos informacion de nuestro archivo hdf\n",
    "\n",
    "print(File_geo.info()) "
   ]
  },
  {
   "cell_type": "code",
   "execution_count": 18,
   "id": "63c26d0c",
   "metadata": {},
   "outputs": [],
   "source": [
    "#visualiza_hdf(File_geo)"
   ]
  },
  {
   "cell_type": "code",
   "execution_count": null,
   "id": "068b5f89",
   "metadata": {},
   "outputs": [],
   "source": []
  }
 ],
 "metadata": {
  "kernelspec": {
   "display_name": "Python 3 (ipykernel)",
   "language": "python",
   "name": "python3"
  },
  "language_info": {
   "codemirror_mode": {
    "name": "ipython",
    "version": 3
   },
   "file_extension": ".py",
   "mimetype": "text/x-python",
   "name": "python",
   "nbconvert_exporter": "python",
   "pygments_lexer": "ipython3",
   "version": "3.8.10"
  }
 },
 "nbformat": 4,
 "nbformat_minor": 5
}
