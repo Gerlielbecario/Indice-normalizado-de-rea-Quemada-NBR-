{
 "cells": [
  {
   "cell_type": "code",
   "execution_count": 1,
   "id": "3d25c5b5",
   "metadata": {},
   "outputs": [],
   "source": [
    "#Librerias que vamos a utilizar\n",
    "import numpy as np\n",
    "import pyhdf.SD\n",
    "from pyhdf.SD import SD,SDC #Necesitamos la libreria pyhdf para leer archivos y SD una clase\n",
    "import glob #una libreria que usamos\n",
    "import pandas as pd\n",
    "import matplotlib.pyplot as plt\n",
    "import re #liberia para regex que luego usaremos en texto"
   ]
  },
  {
   "cell_type": "markdown",
   "id": "c653fc0b",
   "metadata": {},
   "source": [
    "Datos "
   ]
  },
  {
   "cell_type": "code",
   "execution_count": 2,
   "id": "53da59ac",
   "metadata": {},
   "outputs": [],
   "source": [
    "#Ruta donde se encuentran los archivos hdf\n",
    "DataPath = 'archivos'\n",
    "\n",
    "#Generamos una variable con todos los archivos de la carpeta\n",
    "Filelist = glob.glob(DataPath+'/*')\n",
    "\n",
    "#Ruta donde se encuentran los archivos hdf\n",
    "DataPath = 'geolocation'\n",
    "\n",
    "#Generamos una variable con todos los archivos de la carpeta\n",
    "Filelist_geo = glob.glob(DataPath+'/*')"
   ]
  },
  {
   "cell_type": "code",
   "execution_count": 3,
   "id": "2f881a0d",
   "metadata": {},
   "outputs": [],
   "source": [
    "from ipynb.fs.full.funciones_hdf import *"
   ]
  },
  {
   "cell_type": "code",
   "execution_count": 6,
   "id": "43a51723",
   "metadata": {},
   "outputs": [
    {
     "data": {
      "text/plain": [
       "'2022-04-02'"
      ]
     },
     "execution_count": 6,
     "metadata": {},
     "output_type": "execute_result"
    }
   ],
   "source": [
    "File = lee_archivo(Filelist[1])\n",
    "fecha_archivo(File)"
   ]
  },
  {
   "cell_type": "code",
   "execution_count": 7,
   "id": "e091faef",
   "metadata": {},
   "outputs": [
    {
     "data": {
      "text/plain": [
       "'14:15:00'"
      ]
     },
     "execution_count": 7,
     "metadata": {},
     "output_type": "execute_result"
    }
   ],
   "source": [
    "hora_archivo(File)"
   ]
  }
 ],
 "metadata": {
  "kernelspec": {
   "display_name": "Python 3 (ipykernel)",
   "language": "python",
   "name": "python3"
  },
  "language_info": {
   "codemirror_mode": {
    "name": "ipython",
    "version": 3
   },
   "file_extension": ".py",
   "mimetype": "text/x-python",
   "name": "python",
   "nbconvert_exporter": "python",
   "pygments_lexer": "ipython3",
   "version": "3.8.10"
  }
 },
 "nbformat": 4,
 "nbformat_minor": 5
}
