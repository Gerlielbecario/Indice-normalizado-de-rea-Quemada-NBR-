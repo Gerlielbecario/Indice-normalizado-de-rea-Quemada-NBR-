{
 "cells": [
  {
   "cell_type": "markdown",
   "id": "ae0e27d2",
   "metadata": {},
   "source": [
    "Dependencias"
   ]
  },
  {
   "cell_type": "code",
   "execution_count": 2,
   "id": "f9479dea",
   "metadata": {},
   "outputs": [],
   "source": [
    "#Librerias que vamos a utilizar\n",
    "import numpy as np\n",
    "import pyhdf.SD\n",
    "from pyhdf.SD import SD,SDC #Necesitamos la libreria pyhdf para leer archivos y SD una clase\n",
    "import glob #una libreria que usamos\n",
    "import pandas as pd\n",
    "import matplotlib.pyplot as plt\n",
    "import re #liberia para regex que luego usaremos en texto"
   ]
  },
  {
   "cell_type": "markdown",
   "id": "97331f76",
   "metadata": {},
   "source": [
    "Funciones"
   ]
  },
  {
   "cell_type": "code",
   "execution_count": 3,
   "id": "347286d0",
   "metadata": {},
   "outputs": [],
   "source": [
    "def lee_archivo(File):\n",
    "    archivo = SD(File,SDC.READ)\n",
    "    return archivo"
   ]
  },
  {
   "cell_type": "code",
   "execution_count": 4,
   "id": "d8d8bd12",
   "metadata": {},
   "outputs": [],
   "source": [
    "def busca_meta_data(File):\n",
    "    meta_data = File.attributes()[\"CoreMetadata.0\"]\n",
    "    return meta_data"
   ]
  },
  {
   "cell_type": "code",
   "execution_count": 5,
   "id": "0bf39ef9",
   "metadata": {},
   "outputs": [],
   "source": [
    "#Una funcion que nos servira para hallar fecha siguiendo los anteriores pasos\n",
    "\n",
    "def fecha_archivo(File):\n",
    "    meta_data = busca_meta_data(File)\n",
    "    patron_fecha = r'(\\d{4})-(\\d{2})-(\\d{2})'\n",
    "    fecha = re.search(patron_fecha,meta_data)[0]\n",
    "    return fecha"
   ]
  },
  {
   "cell_type": "code",
   "execution_count": 6,
   "id": "5f5ad14e",
   "metadata": {},
   "outputs": [],
   "source": [
    "\n",
    "def hora_archivo(File):\n",
    "    \n",
    "    #Al ingresar el File hdf nos devuelve la hora en la que inicio el scaneo\n",
    "    #de los datos\n",
    "    meta_data = busca_meta_data(File)\n",
    "    \n",
    "    #Generamos una regex con el formato \\b(?:word_a\\W+(?:\\w+\\W+){0,20}?word_b)\\b\n",
    "    #Busca en meta_data una seccion del texto donde se halla informacion sobre el inicio\n",
    "    #de la hora del scaneo\n",
    "    info_inicio_hora = re.search(r'\\b(?:RANGEBEGINNINGTIME\\W+(?:\\w+\\W+){0,20}?RANGEBEGINNINGTIME)\\b',meta_data)[0]\n",
    "\n",
    "    patron_hora = r'(\\d{2}):(\\d{2}):(\\d{2})'\n",
    "    \n",
    "    hora = re.search(patron_hora,info_inicio_hora)[0]\n",
    "    \n",
    "    return hora  "
   ]
  },
  {
   "cell_type": "code",
   "execution_count": 7,
   "id": "347bdf10",
   "metadata": {},
   "outputs": [],
   "source": [
    "def visualiza_hdf(File):\n",
    "    \n",
    "    #El modulo datasets (proviene de la libreria pyhdf) me devuelve informacion sobre que\n",
    "    #hay dentro del hdf. \n",
    "    datasets = {\"Datasets\": list(File.datasets().keys())}\n",
    "    \n",
    "    #Lo transformamos a un dataframe para visualizar\n",
    "    info_file = pd.DataFrame(datasets)\n",
    "    \n",
    "    return info_file"
   ]
  },
  {
   "cell_type": "code",
   "execution_count": 8,
   "id": "37a38fb3",
   "metadata": {},
   "outputs": [],
   "source": [
    "#Funcion que pide como argumento un archivo hdf y el dataset que queramos\n",
    "\n",
    "def selecciona_sds_hdf(File,sds):\n",
    "    \n",
    "    #Seleccionamos el dataset con \"select\" metodo de la libreria pyhdf\n",
    "    sds_seleccionado = File.select(sds)\n",
    "    \n",
    "    return sds_seleccionado"
   ]
  },
  {
   "cell_type": "code",
   "execution_count": 9,
   "id": "218c9fa2",
   "metadata": {},
   "outputs": [],
   "source": [
    "#Toma como argumento un archivo hdf y el dataset que desee extraer\n",
    "\n",
    "def extrae_datos_hdf(File,sds):\n",
    "    \n",
    "    #Seleccionamos el dataset con la funcion\n",
    "    dataset = selecciona_sds_hdf(File,sds)\n",
    "    \n",
    "    #Extraemos los datos con el metodo get de pyhdf\n",
    "    sds_datos = dataset.get()\n",
    "    \n",
    "    #Devuelve los datos y su dimension\n",
    "    return sds_datos,sds_datos.shape"
   ]
  },
  {
   "cell_type": "code",
   "execution_count": 10,
   "id": "e986c637",
   "metadata": {},
   "outputs": [],
   "source": [
    "def selecciona_atributos_sds(File,sds):\n",
    "    \n",
    "    #Seleccionamos el dataset\n",
    "    dataset = selecciona_sds_hdf(File,sds)\n",
    "    \n",
    "    #Utilizamos el metodo attribute, nos devuelve un diccionario con una descripcion\n",
    "    #global de cada atributo adjunto al archivo hdf\n",
    "    dic_atributos = dataset.attributes()\n",
    "    \n",
    "    return dic_atributos"
   ]
  },
  {
   "cell_type": "code",
   "execution_count": 11,
   "id": "9c3a5545",
   "metadata": {},
   "outputs": [],
   "source": [
    "#Input : File y un dataset\n",
    "def muestra_atributos_sds(File,sds):\n",
    "    \n",
    "    dic_atributos = selecciona_atributos_sds(File,sds)\n",
    "        \n",
    "    #Tomamos las llaves y valores del diccionario y los transformamos en listas\n",
    "    #para luego generar una tabla y visualizarlo\n",
    "    columna1 = list(dic_atributos.keys())\n",
    "    columna2 = list(dic_atributos.values())\n",
    "    \n",
    "    #Generamos una tabla/dataframe\n",
    "    df = pd.DataFrame({\"\":columna1,\"Atributos\":columna2})\n",
    "    df = df.set_index(\"\")\n",
    "    \n",
    "    #Regresa una tabla donde se muestran los atributos del dataset\n",
    "    return df"
   ]
  },
  {
   "cell_type": "code",
   "execution_count": 12,
   "id": "4df76bfa",
   "metadata": {},
   "outputs": [],
   "source": [
    "#Se elige un file hdf, sds: el dataset que queramos y el atributo del dataset\n",
    "def extrae_atributos_sds(File,sds,atributo):\n",
    "    \n",
    "    #Utilizamos la funcion para generar un diccionario con los atributos\n",
    "    dic_atributos = selecciona_atributos_sds(File,sds)\n",
    "    \n",
    "    #Del diccionario elegimos el atributo que queremos\n",
    "    attr = dic_atributos[atributo]\n",
    "    \n",
    "    #Devuelve una lista con los valores de mi atributo\n",
    "    return attr"
   ]
  },
  {
   "cell_type": "code",
   "execution_count": 13,
   "id": "431f9e6f",
   "metadata": {},
   "outputs": [],
   "source": [
    "#Extrae los valores de la banda seleccionada ya convertidos a reflectancia\n",
    "\n",
    "#File hdf, sds: dataset,canal deseado, nombre de atributo con las bandas\n",
    "def extrae_banda(File,sds,band,nombre_atributo):\n",
    "    \n",
    "    #Extraemos los valores de reflectancia sin conversion\n",
    "    REF = extrae_datos_hdf(File,sds)[0]\n",
    "    \n",
    "    #Extraemos los numeros de bandas que tenemos. Ej:band 1, band2\n",
    "    #Spliteamos para operar en ellas\n",
    "    n_bands = extrae_atributos_sds(File,sds,nombre_atributo).split(\",\")\n",
    "    \n",
    "    #Elegimos la banda\n",
    "    \n",
    "    posicion_band = n_bands.index(str(band))\n",
    "    \n",
    "    \n",
    "    #Hacemos la conversion\n",
    "    \n",
    "    rad_off_ref= extrae_atributos_sds(File,sds,\"reflectance_offsets\")[posicion_band]\n",
    "    \n",
    "    rad_scales_ref = extrae_atributos_sds(File,sds,\"reflectance_scales\")[posicion_band]\n",
    "    \n",
    "    canal = rad_scales_ref * (REF[posicion_band,:,:] - rad_off_ref)\n",
    "    \n",
    "    return canal"
   ]
  },
  {
   "cell_type": "code",
   "execution_count": 14,
   "id": "eb383aa7",
   "metadata": {},
   "outputs": [],
   "source": [
    "def indice_nbr(File,sds,nombre_atributo):\n",
    "    \n",
    "    #Extraemos las bandas con las cuales vamos a trabajar\n",
    "    canal_5 = extrae_banda(File,sds,5,nombre_atributo)\n",
    "    canal_7 = extrae_banda(File,sds,7,nombre_atributo)\n",
    "    \n",
    "    #Calculamos el indice NBR\n",
    "    nbr = (canal_5 - canal_7) / (canal_5 + canal_7)\n",
    "    \n",
    "    #array con los valores de nbr\n",
    "    return nbr  "
   ]
  },
  {
   "cell_type": "code",
   "execution_count": null,
   "id": "8fba20cb",
   "metadata": {},
   "outputs": [],
   "source": []
  },
  {
   "cell_type": "code",
   "execution_count": null,
   "id": "a3112620",
   "metadata": {},
   "outputs": [],
   "source": []
  }
 ],
 "metadata": {
  "kernelspec": {
   "display_name": "Python 3 (ipykernel)",
   "language": "python",
   "name": "python3"
  },
  "language_info": {
   "codemirror_mode": {
    "name": "ipython",
    "version": 3
   },
   "file_extension": ".py",
   "mimetype": "text/x-python",
   "name": "python",
   "nbconvert_exporter": "python",
   "pygments_lexer": "ipython3",
   "version": "3.8.10"
  }
 },
 "nbformat": 4,
 "nbformat_minor": 5
}
